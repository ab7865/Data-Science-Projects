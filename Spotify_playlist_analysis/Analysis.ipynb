{
 "cells": [
  {
   "cell_type": "code",
   "execution_count": 1,
   "metadata": {},
   "outputs": [],
   "source": [
    "import pandas as pd"
   ]
  },
  {
   "cell_type": "code",
   "execution_count": 2,
   "metadata": {},
   "outputs": [
    {
     "data": {
      "text/plain": [
       "'audio_emy_df shape:'"
      ]
     },
     "metadata": {},
     "output_type": "display_data"
    },
    {
     "data": {
      "text/plain": [
       "(658, 13)"
      ]
     },
     "metadata": {},
     "output_type": "display_data"
    },
    {
     "data": {
      "text/html": [
       "<div>\n",
       "<style scoped>\n",
       "    .dataframe tbody tr th:only-of-type {\n",
       "        vertical-align: middle;\n",
       "    }\n",
       "\n",
       "    .dataframe tbody tr th {\n",
       "        vertical-align: top;\n",
       "    }\n",
       "\n",
       "    .dataframe thead th {\n",
       "        text-align: right;\n",
       "    }\n",
       "</style>\n",
       "<table border=\"1\" class=\"dataframe\">\n",
       "  <thead>\n",
       "    <tr style=\"text-align: right;\">\n",
       "      <th></th>\n",
       "      <th>playlist_name</th>\n",
       "      <th>song_name</th>\n",
       "      <th>danceability</th>\n",
       "      <th>energy</th>\n",
       "      <th>loudness</th>\n",
       "      <th>mode</th>\n",
       "      <th>speechiness</th>\n",
       "      <th>acousticness</th>\n",
       "      <th>instrumentalness</th>\n",
       "      <th>liveness</th>\n",
       "      <th>valence</th>\n",
       "      <th>tempo</th>\n",
       "      <th>id</th>\n",
       "    </tr>\n",
       "  </thead>\n",
       "  <tbody>\n",
       "    <tr>\n",
       "      <th>0</th>\n",
       "      <td>sons of god ❤️</td>\n",
       "      <td>Pão e Vinho</td>\n",
       "      <td>0.613</td>\n",
       "      <td>0.546</td>\n",
       "      <td>-7.899</td>\n",
       "      <td>1</td>\n",
       "      <td>0.0238</td>\n",
       "      <td>0.7470</td>\n",
       "      <td>0.0</td>\n",
       "      <td>0.123</td>\n",
       "      <td>0.353</td>\n",
       "      <td>87.949</td>\n",
       "      <td>0Q1AoxhnaixaZoh59Ix1O0</td>\n",
       "    </tr>\n",
       "    <tr>\n",
       "      <th>1</th>\n",
       "      <td>sons of god ❤️</td>\n",
       "      <td>Estar em Tuas Mãos</td>\n",
       "      <td>0.362</td>\n",
       "      <td>0.708</td>\n",
       "      <td>-6.720</td>\n",
       "      <td>1</td>\n",
       "      <td>0.0340</td>\n",
       "      <td>0.0335</td>\n",
       "      <td>0.0</td>\n",
       "      <td>0.268</td>\n",
       "      <td>0.470</td>\n",
       "      <td>171.937</td>\n",
       "      <td>4kD9RFiO3lNkMTogn61gSk</td>\n",
       "    </tr>\n",
       "    <tr>\n",
       "      <th>2</th>\n",
       "      <td>sons of god ❤️</td>\n",
       "      <td>Glória a Deus nas Alturas</td>\n",
       "      <td>0.626</td>\n",
       "      <td>0.829</td>\n",
       "      <td>-6.173</td>\n",
       "      <td>1</td>\n",
       "      <td>0.0382</td>\n",
       "      <td>0.0121</td>\n",
       "      <td>0.0</td>\n",
       "      <td>0.106</td>\n",
       "      <td>0.701</td>\n",
       "      <td>126.049</td>\n",
       "      <td>7nkW6Nn4TLxIcLHClcAO09</td>\n",
       "    </tr>\n",
       "    <tr>\n",
       "      <th>3</th>\n",
       "      <td>sons of god ❤️</td>\n",
       "      <td>Eu Escolho Deus - Ao Vivo</td>\n",
       "      <td>0.484</td>\n",
       "      <td>0.388</td>\n",
       "      <td>-11.161</td>\n",
       "      <td>1</td>\n",
       "      <td>0.0478</td>\n",
       "      <td>0.7750</td>\n",
       "      <td>0.0</td>\n",
       "      <td>0.752</td>\n",
       "      <td>0.289</td>\n",
       "      <td>119.780</td>\n",
       "      <td>2MaKWxPGQ6zocvj2ciYREO</td>\n",
       "    </tr>\n",
       "    <tr>\n",
       "      <th>4</th>\n",
       "      <td>sons of god ❤️</td>\n",
       "      <td>Mesmo Sem Entender - Ao Vivo</td>\n",
       "      <td>0.473</td>\n",
       "      <td>0.304</td>\n",
       "      <td>-13.385</td>\n",
       "      <td>1</td>\n",
       "      <td>0.0781</td>\n",
       "      <td>0.8340</td>\n",
       "      <td>0.0</td>\n",
       "      <td>0.607</td>\n",
       "      <td>0.293</td>\n",
       "      <td>103.642</td>\n",
       "      <td>65XnT7szSYXvWi2qnmzy7o</td>\n",
       "    </tr>\n",
       "  </tbody>\n",
       "</table>\n",
       "</div>"
      ],
      "text/plain": [
       "    playlist_name                     song_name  danceability  energy  \\\n",
       "0  sons of god ❤️                   Pão e Vinho         0.613   0.546   \n",
       "1  sons of god ❤️            Estar em Tuas Mãos         0.362   0.708   \n",
       "2  sons of god ❤️     Glória a Deus nas Alturas         0.626   0.829   \n",
       "3  sons of god ❤️     Eu Escolho Deus - Ao Vivo         0.484   0.388   \n",
       "4  sons of god ❤️  Mesmo Sem Entender - Ao Vivo         0.473   0.304   \n",
       "\n",
       "   loudness  mode  speechiness  acousticness  instrumentalness  liveness  \\\n",
       "0    -7.899     1       0.0238        0.7470               0.0     0.123   \n",
       "1    -6.720     1       0.0340        0.0335               0.0     0.268   \n",
       "2    -6.173     1       0.0382        0.0121               0.0     0.106   \n",
       "3   -11.161     1       0.0478        0.7750               0.0     0.752   \n",
       "4   -13.385     1       0.0781        0.8340               0.0     0.607   \n",
       "\n",
       "   valence    tempo                      id  \n",
       "0    0.353   87.949  0Q1AoxhnaixaZoh59Ix1O0  \n",
       "1    0.470  171.937  4kD9RFiO3lNkMTogn61gSk  \n",
       "2    0.701  126.049  7nkW6Nn4TLxIcLHClcAO09  \n",
       "3    0.289  119.780  2MaKWxPGQ6zocvj2ciYREO  \n",
       "4    0.293  103.642  65XnT7szSYXvWi2qnmzy7o  "
      ]
     },
     "execution_count": 2,
     "metadata": {},
     "output_type": "execute_result"
    }
   ],
   "source": [
    "audio_emy_df = pd.read_json(\"audio_features/audio_features_emily.json\", lines = True)\n",
    "display('audio_emy_df shape:', audio_emy_df.shape)\n",
    "audio_emy_df.head()"
   ]
  },
  {
   "cell_type": "code",
   "execution_count": 3,
   "metadata": {},
   "outputs": [
    {
     "data": {
      "text/plain": [
       "'audio_jhon_df shape:'"
      ]
     },
     "metadata": {},
     "output_type": "display_data"
    },
    {
     "data": {
      "text/plain": [
       "(1762, 13)"
      ]
     },
     "metadata": {},
     "output_type": "display_data"
    },
    {
     "data": {
      "text/html": [
       "<div>\n",
       "<style scoped>\n",
       "    .dataframe tbody tr th:only-of-type {\n",
       "        vertical-align: middle;\n",
       "    }\n",
       "\n",
       "    .dataframe tbody tr th {\n",
       "        vertical-align: top;\n",
       "    }\n",
       "\n",
       "    .dataframe thead th {\n",
       "        text-align: right;\n",
       "    }\n",
       "</style>\n",
       "<table border=\"1\" class=\"dataframe\">\n",
       "  <thead>\n",
       "    <tr style=\"text-align: right;\">\n",
       "      <th></th>\n",
       "      <th>playlist_name</th>\n",
       "      <th>song_name</th>\n",
       "      <th>danceability</th>\n",
       "      <th>energy</th>\n",
       "      <th>loudness</th>\n",
       "      <th>mode</th>\n",
       "      <th>speechiness</th>\n",
       "      <th>acousticness</th>\n",
       "      <th>instrumentalness</th>\n",
       "      <th>liveness</th>\n",
       "      <th>valence</th>\n",
       "      <th>tempo</th>\n",
       "      <th>id</th>\n",
       "    </tr>\n",
       "  </thead>\n",
       "  <tbody>\n",
       "    <tr>\n",
       "      <th>0</th>\n",
       "      <td>This Is NF</td>\n",
       "      <td>PAID MY DUES</td>\n",
       "      <td>0.812</td>\n",
       "      <td>0.784</td>\n",
       "      <td>-4.208</td>\n",
       "      <td>1</td>\n",
       "      <td>0.248</td>\n",
       "      <td>0.136</td>\n",
       "      <td>0.0</td>\n",
       "      <td>0.1090</td>\n",
       "      <td>0.380</td>\n",
       "      <td>145.995</td>\n",
       "      <td>18czZN7uruOjftj71Kt8oj</td>\n",
       "    </tr>\n",
       "    <tr>\n",
       "      <th>1</th>\n",
       "      <td>This Is NF</td>\n",
       "      <td>The Search</td>\n",
       "      <td>0.789</td>\n",
       "      <td>0.786</td>\n",
       "      <td>-4.788</td>\n",
       "      <td>1</td>\n",
       "      <td>0.297</td>\n",
       "      <td>0.596</td>\n",
       "      <td>0.0</td>\n",
       "      <td>0.0997</td>\n",
       "      <td>0.390</td>\n",
       "      <td>119.957</td>\n",
       "      <td>2OKo7g3KfmCt3kyLvUAL0g</td>\n",
       "    </tr>\n",
       "    <tr>\n",
       "      <th>2</th>\n",
       "      <td>This Is NF</td>\n",
       "      <td>Time - Edit</td>\n",
       "      <td>0.665</td>\n",
       "      <td>0.703</td>\n",
       "      <td>-3.885</td>\n",
       "      <td>1</td>\n",
       "      <td>0.070</td>\n",
       "      <td>0.128</td>\n",
       "      <td>0.0</td>\n",
       "      <td>0.1150</td>\n",
       "      <td>0.257</td>\n",
       "      <td>97.968</td>\n",
       "      <td>68Vm2W4oURsPV3121vUZgB</td>\n",
       "    </tr>\n",
       "    <tr>\n",
       "      <th>3</th>\n",
       "      <td>This Is NF</td>\n",
       "      <td>Leave Me Alone</td>\n",
       "      <td>0.722</td>\n",
       "      <td>0.741</td>\n",
       "      <td>-3.720</td>\n",
       "      <td>1</td>\n",
       "      <td>0.190</td>\n",
       "      <td>0.249</td>\n",
       "      <td>0.0</td>\n",
       "      <td>0.1510</td>\n",
       "      <td>0.460</td>\n",
       "      <td>162.110</td>\n",
       "      <td>3EtyEzMpfKSaoVhPunvbRV</td>\n",
       "    </tr>\n",
       "    <tr>\n",
       "      <th>4</th>\n",
       "      <td>This Is NF</td>\n",
       "      <td>Change</td>\n",
       "      <td>0.784</td>\n",
       "      <td>0.753</td>\n",
       "      <td>-4.099</td>\n",
       "      <td>0</td>\n",
       "      <td>0.213</td>\n",
       "      <td>0.438</td>\n",
       "      <td>0.0</td>\n",
       "      <td>0.1670</td>\n",
       "      <td>0.532</td>\n",
       "      <td>116.959</td>\n",
       "      <td>4cBlIM5AjnQ74f52Dv7T5K</td>\n",
       "    </tr>\n",
       "  </tbody>\n",
       "</table>\n",
       "</div>"
      ],
      "text/plain": [
       "  playlist_name       song_name  danceability  energy  loudness  mode  \\\n",
       "0    This Is NF    PAID MY DUES         0.812   0.784    -4.208     1   \n",
       "1    This Is NF      The Search         0.789   0.786    -4.788     1   \n",
       "2    This Is NF     Time - Edit         0.665   0.703    -3.885     1   \n",
       "3    This Is NF  Leave Me Alone         0.722   0.741    -3.720     1   \n",
       "4    This Is NF          Change         0.784   0.753    -4.099     0   \n",
       "\n",
       "   speechiness  acousticness  instrumentalness  liveness  valence    tempo  \\\n",
       "0        0.248         0.136               0.0    0.1090    0.380  145.995   \n",
       "1        0.297         0.596               0.0    0.0997    0.390  119.957   \n",
       "2        0.070         0.128               0.0    0.1150    0.257   97.968   \n",
       "3        0.190         0.249               0.0    0.1510    0.460  162.110   \n",
       "4        0.213         0.438               0.0    0.1670    0.532  116.959   \n",
       "\n",
       "                       id  \n",
       "0  18czZN7uruOjftj71Kt8oj  \n",
       "1  2OKo7g3KfmCt3kyLvUAL0g  \n",
       "2  68Vm2W4oURsPV3121vUZgB  \n",
       "3  3EtyEzMpfKSaoVhPunvbRV  \n",
       "4  4cBlIM5AjnQ74f52Dv7T5K  "
      ]
     },
     "execution_count": 3,
     "metadata": {},
     "output_type": "execute_result"
    }
   ],
   "source": [
    "audio_jhon_df = pd.read_json(\"audio_features/audio_features.json\", lines = True)\n",
    "display('audio_jhon_df shape:', audio_jhon_df.shape)\n",
    "audio_jhon_df.head()"
   ]
  },
  {
   "cell_type": "markdown",
   "metadata": {},
   "source": [
    "## Data Set Balancing\n",
    "As we can see below, we have way more songs in my playlist. So, in order to have a fair comparison between the data sets, we have to balance both of them. To do that, let's create a for loop that goes through my dataframe and randomly drops some rows of the most frequently occurring artists. "
   ]
  },
  {
   "cell_type": "code",
   "execution_count": 4,
   "metadata": {},
   "outputs": [
    {
     "data": {
      "text/plain": [
       "{'Rap,Hip Hop, R&B': 100,\n",
       " 'Rock 80-90 internacional': 100,\n",
       " 'Pagode 2018 / 2019': 100,\n",
       " 'Sertanejo 2020 Julho - TOP 100 Músicas Sertanejas Mais Tocadas (Sucessos Sertanejos 2020)': 100,\n",
       " '0 to 100 nigga, real quick.': 100,\n",
       " 'Dilsinho/Ferrugem/Sorriso Maroto/Turma do Pagode/Ta na Mente/Thiaguinho/Péricles/Exalta Samba/Pixote': 100,\n",
       " 'Pagode 2019: Melhores Pagodes 2019': 93,\n",
       " 'This Is Drake': 74,\n",
       " 'rock 80-90 ': 72,\n",
       " 'rap': 65,\n",
       " 'This Is Iron Maiden': 62,\n",
       " 'This Is NF': 52,\n",
       " 'This Is Keane': 50,\n",
       " 'Frank Sinatra Radio': 50,\n",
       " 'Johann Sebastian Bach Radio': 50,\n",
       " 'This Is Angra': 50,\n",
       " 'This Is Stratovarius': 50,\n",
       " 'This Is Black Sabbath': 50,\n",
       " 'Jazz': 50,\n",
       " 'This Is Cradle Of Filth': 50,\n",
       " 'This Is The Killers': 46,\n",
       " 'This Is Zé Ramalho': 42,\n",
       " 'This Is Rob Bailey & The Hustle Standard': 39,\n",
       " 'This Is A Day To Remember': 36,\n",
       " 'pagode': 32,\n",
       " \"This Is Racionais MC's\": 31,\n",
       " 'This Is Sabotage': 28,\n",
       " 'This Is Al Green': 26,\n",
       " 'ferrugem, dilsinho e sorriso maroto': 22,\n",
       " 'Tiee – Tiee': 16,\n",
       " 'the offspring': 14,\n",
       " 'Tiee': 11,\n",
       " 'Liked from Radio': 1}"
      ]
     },
     "execution_count": 4,
     "metadata": {},
     "output_type": "execute_result"
    }
   ],
   "source": [
    "# Create a dictionary in which the keys are the artists of my list and the values are the total of songs for each singer or group.\n",
    "my_dict = dict(audio_jhon_df.playlist_name.value_counts())\n",
    "my_dict"
   ]
  },
  {
   "cell_type": "markdown",
   "metadata": {},
   "source": [
    "Podemos ver notoriamente que os datasets estão desbalanceados. Para realizar esse balanceamento eu vou fazer jus to conhecimento que possuo a respeito do meu gosto musical e da frequência em qu escudo cada playlist. Temos que ter em mente que para deletar dados, devemos ter um profundo conhecimento do business em que estamos inseridos. Nesse caso, eu posso realizar esse processo sem peso na consciência devido ao fato de eu ter um profundo conhecimento das musicas e artistas que escuto com mais frequência.\n",
    "\n",
    "vou fazer o seguinte:\n",
    "* Deletar playlists que escuto com pouca frequência (algumas delas eu nem sei o motivo de estarem alí)\n",
    "* Determinar uma certa porcentagem de musicas a serem deletadas randomicamente de cada playlist restante (considerando tamnbém a frequência em que escudo a playlist) "
   ]
  },
  {
   "cell_type": "code",
   "execution_count": null,
   "metadata": {},
   "outputs": [],
   "source": []
  },
  {
   "cell_type": "code",
   "execution_count": null,
   "metadata": {},
   "outputs": [],
   "source": []
  },
  {
   "cell_type": "code",
   "execution_count": null,
   "metadata": {},
   "outputs": [],
   "source": []
  },
  {
   "cell_type": "code",
   "execution_count": 11,
   "metadata": {},
   "outputs": [
    {
     "data": {
      "text/html": [
       "<div>\n",
       "<style scoped>\n",
       "    .dataframe tbody tr th:only-of-type {\n",
       "        vertical-align: middle;\n",
       "    }\n",
       "\n",
       "    .dataframe tbody tr th {\n",
       "        vertical-align: top;\n",
       "    }\n",
       "\n",
       "    .dataframe thead th {\n",
       "        text-align: right;\n",
       "    }\n",
       "</style>\n",
       "<table border=\"1\" class=\"dataframe\">\n",
       "  <thead>\n",
       "    <tr style=\"text-align: right;\">\n",
       "      <th></th>\n",
       "      <th>danceability</th>\n",
       "      <th>energy</th>\n",
       "      <th>loudness</th>\n",
       "      <th>speechiness</th>\n",
       "      <th>acousticness</th>\n",
       "      <th>instrumentalness</th>\n",
       "      <th>liveness</th>\n",
       "      <th>valence</th>\n",
       "      <th>tempo</th>\n",
       "    </tr>\n",
       "  </thead>\n",
       "  <tbody>\n",
       "    <tr>\n",
       "      <th>0</th>\n",
       "      <td>0.613</td>\n",
       "      <td>0.546</td>\n",
       "      <td>-7.899</td>\n",
       "      <td>0.0238</td>\n",
       "      <td>0.7470</td>\n",
       "      <td>0.0</td>\n",
       "      <td>0.123</td>\n",
       "      <td>0.353</td>\n",
       "      <td>87.949</td>\n",
       "    </tr>\n",
       "    <tr>\n",
       "      <th>1</th>\n",
       "      <td>0.362</td>\n",
       "      <td>0.708</td>\n",
       "      <td>-6.720</td>\n",
       "      <td>0.0340</td>\n",
       "      <td>0.0335</td>\n",
       "      <td>0.0</td>\n",
       "      <td>0.268</td>\n",
       "      <td>0.470</td>\n",
       "      <td>171.937</td>\n",
       "    </tr>\n",
       "    <tr>\n",
       "      <th>2</th>\n",
       "      <td>0.626</td>\n",
       "      <td>0.829</td>\n",
       "      <td>-6.173</td>\n",
       "      <td>0.0382</td>\n",
       "      <td>0.0121</td>\n",
       "      <td>0.0</td>\n",
       "      <td>0.106</td>\n",
       "      <td>0.701</td>\n",
       "      <td>126.049</td>\n",
       "    </tr>\n",
       "    <tr>\n",
       "      <th>3</th>\n",
       "      <td>0.484</td>\n",
       "      <td>0.388</td>\n",
       "      <td>-11.161</td>\n",
       "      <td>0.0478</td>\n",
       "      <td>0.7750</td>\n",
       "      <td>0.0</td>\n",
       "      <td>0.752</td>\n",
       "      <td>0.289</td>\n",
       "      <td>119.780</td>\n",
       "    </tr>\n",
       "    <tr>\n",
       "      <th>4</th>\n",
       "      <td>0.473</td>\n",
       "      <td>0.304</td>\n",
       "      <td>-13.385</td>\n",
       "      <td>0.0781</td>\n",
       "      <td>0.8340</td>\n",
       "      <td>0.0</td>\n",
       "      <td>0.607</td>\n",
       "      <td>0.293</td>\n",
       "      <td>103.642</td>\n",
       "    </tr>\n",
       "  </tbody>\n",
       "</table>\n",
       "</div>"
      ],
      "text/plain": [
       "   danceability  energy  loudness  speechiness  acousticness  \\\n",
       "0         0.613   0.546    -7.899       0.0238        0.7470   \n",
       "1         0.362   0.708    -6.720       0.0340        0.0335   \n",
       "2         0.626   0.829    -6.173       0.0382        0.0121   \n",
       "3         0.484   0.388   -11.161       0.0478        0.7750   \n",
       "4         0.473   0.304   -13.385       0.0781        0.8340   \n",
       "\n",
       "   instrumentalness  liveness  valence    tempo  \n",
       "0               0.0     0.123    0.353   87.949  \n",
       "1               0.0     0.268    0.470  171.937  \n",
       "2               0.0     0.106    0.701  126.049  \n",
       "3               0.0     0.752    0.289  119.780  \n",
       "4               0.0     0.607    0.293  103.642  "
      ]
     },
     "execution_count": 11,
     "metadata": {},
     "output_type": "execute_result"
    }
   ],
   "source": [
    "features_jhon_df = audio_jhon_df.loc[:,[ 'danceability', 'energy', 'loudness',  'speechiness', 'acousticness', 'instrumentalness','liveness', 'valence', 'tempo']]\n",
    "features_emy_df = audio_emy_df.loc[:,[ 'danceability', 'energy', 'loudness',  'speechiness', 'acousticness', 'instrumentalness','liveness', 'valence', 'tempo']]\n",
    "features_emy_df.head()"
   ]
  },
  {
   "cell_type": "code",
   "execution_count": 17,
   "metadata": {},
   "outputs": [
    {
     "data": {
      "text/plain": [
       "'Shape features_emy_df:'"
      ]
     },
     "metadata": {},
     "output_type": "display_data"
    },
    {
     "data": {
      "text/plain": [
       "(658, 9)"
      ]
     },
     "metadata": {},
     "output_type": "display_data"
    },
    {
     "data": {
      "text/plain": [
       "'Shape features_emy_df:'"
      ]
     },
     "metadata": {},
     "output_type": "display_data"
    },
    {
     "data": {
      "text/plain": [
       "(1762, 9)"
      ]
     },
     "metadata": {},
     "output_type": "display_data"
    }
   ],
   "source": [
    "display('Shape features_emy_df:',features_emy_df.shape)\n",
    "display('Shape features_emy_df:' ,features_jhon_df.shape)"
   ]
  },
  {
   "cell_type": "code",
   "execution_count": null,
   "metadata": {},
   "outputs": [],
   "source": []
  },
  {
   "cell_type": "code",
   "execution_count": null,
   "metadata": {},
   "outputs": [],
   "source": []
  },
  {
   "cell_type": "code",
   "execution_count": null,
   "metadata": {},
   "outputs": [],
   "source": []
  },
  {
   "cell_type": "code",
   "execution_count": null,
   "metadata": {},
   "outputs": [],
   "source": []
  },
  {
   "cell_type": "code",
   "execution_count": null,
   "metadata": {},
   "outputs": [],
   "source": []
  },
  {
   "cell_type": "code",
   "execution_count": null,
   "metadata": {},
   "outputs": [],
   "source": []
  },
  {
   "cell_type": "code",
   "execution_count": null,
   "metadata": {},
   "outputs": [],
   "source": []
  }
 ],
 "metadata": {
  "kernelspec": {
   "display_name": "Python 3",
   "language": "python",
   "name": "python3"
  },
  "language_info": {
   "codemirror_mode": {
    "name": "ipython",
    "version": 3
   },
   "file_extension": ".py",
   "mimetype": "text/x-python",
   "name": "python",
   "nbconvert_exporter": "python",
   "pygments_lexer": "ipython3",
   "version": "3.7.3"
  }
 },
 "nbformat": 4,
 "nbformat_minor": 4
}
